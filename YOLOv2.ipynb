{
 "cells": [
  {
   "cell_type": "code",
   "execution_count": null,
   "metadata": {},
   "outputs": [],
   "source": [
    "## 2 ways to improve the performance\n",
    "# yolov2 : changes in model configurations\n",
    "# yolo9000 : changes in model training method. joint training of classification and object detection.\n"
   ]
  },
  {
   "cell_type": "code",
   "execution_count": 2,
   "metadata": {},
   "outputs": [],
   "source": [
    "import numpy as np\n",
    "import matplotlib.pyplot as plt\n",
    "\n",
    "from global_utils import IoU"
   ]
  },
  {
   "cell_type": "markdown",
   "metadata": {},
   "source": [
    "## Anchor Boxes"
   ]
  },
  {
   "cell_type": "markdown",
   "metadata": {},
   "source": [
    "### k-mean clustering"
   ]
  },
  {
   "cell_type": "code",
   "execution_count": null,
   "metadata": {},
   "outputs": [],
   "source": [
    "## https://towardsdatascience.com/create-your-own-k-means-clustering-algorithm-in-python-d7d4c9077670\n",
    "\n",
    "def KmeanClustering(bboxes, max_iters, k = 5) :\n",
    "    '''\n",
    "    read out whole bounding boxes from train datasets, and perform k mean clusterings\n",
    "    bboxes = (x_center, y_center, w, h, c). Here ratios are respect to the image size, NOT grid cell.\n",
    "    max_iters : number of maximum iterations\n",
    "    k : number of clusters\n",
    "    '''\n",
    "\n",
    "    w = bboxes[:, 2]\n",
    "    h = bboxes[:, 3]\n",
    "\n",
    "    # initialize the centroid\n",
    "    min_w, max_w = min(w), max(w)\n",
    "    min_h, max_h = min(h), max(h)\n",
    "    # uniformly distribute the k cluster centroids\n",
    "    centroids = [((max_w - min_w) * (i+1), (max_h - min_h) * (i+1)) for i in range(k)]\n",
    "\n",
    "    prev_centroids = None\n",
    "    iteration = 0\n",
    "\n",
    "\n",
    "    while np.not_equal(centroids, prev_centroid).any() or iteration < max_iters :\n",
    "        \n",
    "        sorted_points = [[] for _ in range(k)]\n",
    "\n",
    "        for (_, _, w, h, _) in bboxes :\n",
    "            \n",
    "            # Suppose x_center and y_center are same for centroid and data point here, we just want the ratio of w, h.\n",
    "            x, y = 0.5, 0.5\n",
    "\n",
    "\n",
    "\n",
    "            dist = np.array([IoU(np.array([x,y,w,h]), np.array([x,y,centroid_w, centroid_h]) ) \\\n",
    "                                for (centroid_w, centroid_h) in centroids])\n",
    "\n",
    "            centroid_idx = np.argmax(dist)\n",
    "            sorted_points[centroid_idx].append([w, h])\n",
    "\n",
    "        prev_centroids = centroids\n",
    "        sorted_points = np.array(sorted_points)\n",
    "        centroids = [(np.mean(cluster[:,0]), np.mean(cluster[:,1]) ) for cluster in sorted_points]\n",
    "\n",
    "        # if any new centroids has NaN, then substitute back to previous centroids\n",
    "        centroids[np.isnan(centroids)] = prev_centroids[np.isnan(centroids)]\n",
    "\n",
    "        iteration += 1\n",
    "\n",
    "    return centroids\n",
    "\n"
   ]
  },
  {
   "cell_type": "code",
   "execution_count": 6,
   "metadata": {},
   "outputs": [
    {
     "data": {
      "text/plain": [
       "array([[1., 0., 0., 0.]])"
      ]
     },
     "execution_count": 6,
     "metadata": {},
     "output_type": "execute_result"
    }
   ],
   "source": [
    "samp = np.array([[np.NaN, 0, 0, 0]])\n",
    "prev = np.array([[1, 2, 3, 4]])\n",
    "samp[np.isnan(samp)] = prev[np.isnan(samp)]\n",
    "\n",
    "\n",
    "samp"
   ]
  },
  {
   "cell_type": "code",
   "execution_count": null,
   "metadata": {},
   "outputs": [],
   "source": []
  }
 ],
 "metadata": {
  "interpreter": {
   "hash": "c6e4e9f98eb68ad3b7c296f83d20e6de614cb42e90992a65aa266555a3137d0d"
  },
  "kernelspec": {
   "display_name": "Python 3.9.7 64-bit ('base': conda)",
   "language": "python",
   "name": "python3"
  },
  "language_info": {
   "codemirror_mode": {
    "name": "ipython",
    "version": 3
   },
   "file_extension": ".py",
   "mimetype": "text/x-python",
   "name": "python",
   "nbconvert_exporter": "python",
   "pygments_lexer": "ipython3",
   "version": "3.9.7"
  },
  "orig_nbformat": 4
 },
 "nbformat": 4,
 "nbformat_minor": 2
}
