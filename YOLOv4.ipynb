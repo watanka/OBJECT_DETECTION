{
 "cells": [
  {
   "cell_type": "code",
   "execution_count": 43,
   "metadata": {},
   "outputs": [],
   "source": [
    "import torch\n",
    "import torch.nn as nn\n",
    "\n",
    "class IoULoss(nn.Module) :\n",
    "    def __init__(self, method = 'IoU') :\n",
    "        super().__init__()\n",
    "        self.method = method\n",
    "\n",
    "    def forward(self, inp, target) :\n",
    "        '''\n",
    "        input : (B, # of bboxes, 6)\n",
    "        '''\n",
    "        inp_w = inp[..., 2:3]\n",
    "        inp_h = inp[..., 3:4]\n",
    "        target_w = target[..., 2:3]\n",
    "        target_h = target[..., 3:4]\n",
    "\n",
    "        inp_area = inp_w * inp_h\n",
    "        target_area = target_w * target_h\n",
    "\n",
    "        inp_xmin = inp[..., 0:1] - inp_w / 2\n",
    "        inp_ymin = inp[..., 1:2] - inp_h / 2\n",
    "        inp_xmax = inp[..., 0:1] + inp_w / 2\n",
    "        inp_ymax = inp[..., 1:2] + inp_w / 2\n",
    "\n",
    "        target_xmin = target[..., 0:1] - target_w / 2\n",
    "        target_ymin = target[..., 1:2] - target_h / 2\n",
    "        target_xmax = target[..., 0:1] + target_w / 2\n",
    "        target_ymax = target[..., 1:2] + target_w / 2\n",
    "        \n",
    "        inp_topleft = torch.cat([inp_xmin, inp_ymin], axis = -1)\n",
    "        target_topleft = torch.cat([target_xmin, target_ymin], axis = -1)\n",
    "\n",
    "        inp_bottomright = torch.cat([inp_xmax, inp_ymax], axis = -1)\n",
    "        target_bottomright = torch.cat([target_xmax, target_ymax], axis = -1)\n",
    "\n",
    "        intersection_top_left = torch.max(inp_topleft, target_topleft)\n",
    "        intersection_bottom_right = torch.min(inp_bottomright, target_bottomright)\n",
    "\n",
    "\n",
    "\n",
    "        area_inter = torch.prod(\n",
    "            torch.clip(intersection_bottom_right - intersection_top_left, min = 0 , max = None), -1).unsqueeze(-1)\n",
    "\n",
    "        iou = area_inter / (inp_area + target_area - area_inter + 1e-9)\n",
    "\n",
    "        # GIoU : IoU - |C \\ (A U B)| over C. C는 bbox와 GT를 모두 포함하는 최소 크기의 박스.\n",
    "        C_top_left = torch.min(inp_topleft, target_topleft)\n",
    "        C_bottom_right = torch.max(inp_bottomright, target_bottomright)\n",
    "        C_area = torch.prod(C_bottom_right - C_top_left, -1).unsqueeze(-1)\n",
    "\n",
    "        # DIoU : 중심좌표 반영. 1 - IoU + euclidean(pred_center, gt_center) / diagonal length of C. C는 bbox와 GT를 모두 포함하는 최소 크기의 박스.\n",
    "        euclidean = torch.sqrt(torch.sum((inp[..., 0:2] - target[..., 0:2]) ** 2, dim = -1)).unsqueeze(-1)\n",
    "        diagonal_length_C = torch.sqrt(torch.sum((C_bottom_right - C_top_left) ** 2, dim = -1)).unsqueeze(-1)\n",
    "\n",
    "        if self.method == 'IoU' : \n",
    "            return 1 - iou\n",
    "        elif self.method == 'GIoU' :\n",
    "            return 1 - (iou - (C_area - (inp_area + target_area - area_inter)) / C_area)\n",
    "        elif self.method == 'DIoU' :\n",
    "            return 1 - iou + (euclidean / diagonal_length_C)"
   ]
  },
  {
   "cell_type": "code",
   "execution_count": 44,
   "metadata": {},
   "outputs": [],
   "source": [
    "# test case 1. IoU 0.36\n",
    "# test case 2. IoU 1.\n",
    "# test case 3. IoU 0\n",
    "# test case 4. IoU 0\n",
    "pred = torch.tensor([[0.5, 0.5, 0.5, 0.5],\n",
    "                     [0.5, 0.5, 0.3, 0.3],\n",
    "                     [0.1, 0.3, 0.2, 0.2],\n",
    "                     [0.1, 0.3, 0.2, 0.2]\n",
    "                ]).unsqueeze(0) # for batch\n",
    "\n",
    "gt = torch.tensor([[0.7, 0.7, 0.4, 0.4],\n",
    "                   [0.5, 0.5, 0.3, 0.3],\n",
    "                   [0.6, 0.3, 0.2, 0.2],\n",
    "                   [0.3, 0.3, 0.2, 0.2]\n",
    "                ]).unsqueeze(0) # for batch\n",
    "\n",
    "\n"
   ]
  },
  {
   "cell_type": "code",
   "execution_count": 45,
   "metadata": {},
   "outputs": [],
   "source": [
    "iouloss = IoULoss(method = 'IoU')"
   ]
  },
  {
   "cell_type": "code",
   "execution_count": 46,
   "metadata": {},
   "outputs": [
    {
     "data": {
      "text/plain": [
       "tensor([[[8.2014e-01],\n",
       "         [3.5763e-07],\n",
       "         [1.0000e+00],\n",
       "         [1.0000e+00]]])"
      ]
     },
     "execution_count": 46,
     "metadata": {},
     "output_type": "execute_result"
    }
   ],
   "source": [
    "iouloss(pred, gt)"
   ]
  },
  {
   "cell_type": "code",
   "execution_count": 47,
   "metadata": {},
   "outputs": [
    {
     "data": {
      "text/plain": [
       "0.17985611510791366"
      ]
     },
     "execution_count": 47,
     "metadata": {},
     "output_type": "execute_result"
    }
   ],
   "source": [
    "0.0625 / (0.25 + 0.16 - 0.0625)"
   ]
  },
  {
   "cell_type": "code",
   "execution_count": 48,
   "metadata": {},
   "outputs": [
    {
     "data": {
      "text/plain": [
       "3.5763e-07"
      ]
     },
     "execution_count": 48,
     "metadata": {},
     "output_type": "execute_result"
    }
   ],
   "source": [
    "3.5763e-07"
   ]
  },
  {
   "cell_type": "code",
   "execution_count": null,
   "metadata": {},
   "outputs": [],
   "source": []
  }
 ],
 "metadata": {
  "kernelspec": {
   "display_name": "Python 3",
   "language": "python",
   "name": "python3"
  },
  "language_info": {
   "codemirror_mode": {
    "name": "ipython",
    "version": 3
   },
   "file_extension": ".py",
   "mimetype": "text/x-python",
   "name": "python",
   "nbconvert_exporter": "python",
   "pygments_lexer": "ipython3",
   "version": "3.10.10"
  },
  "orig_nbformat": 4
 },
 "nbformat": 4,
 "nbformat_minor": 2
}
