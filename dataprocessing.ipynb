{
 "cells": [
  {
   "cell_type": "code",
   "execution_count": null,
   "metadata": {},
   "outputs": [],
   "source": [
    "import os\n",
    "import io\n",
    "from imgsize import get_size\n",
    "import json\n",
    "from tqdm import tqdm\n",
    "\n",
    "from glob import glob\n",
    "import matplotlib.pyplot as plt\n",
    "import cv2"
   ]
  },
  {
   "attachments": {},
   "cell_type": "markdown",
   "metadata": {},
   "source": [
    "##### yolo data format을 위한 이미지 정보를 json파일에 저장"
   ]
  },
  {
   "cell_type": "code",
   "execution_count": null,
   "metadata": {},
   "outputs": [],
   "source": [
    "\n",
    "def convert_yolo_format(json_file, imgdir) :\n",
    "    with open(json_file, 'r') as f :\n",
    "        json_info = json.load(f)\n",
    "    \n",
    "    yolo_json_info = []\n",
    "\n",
    "    for info in tqdm(json_info) :\n",
    "        imgfile = os.path.join(imgdir, info['name'])\n",
    "\n",
    "        with io.open(imgfile, 'rb') as fobj :\n",
    "            width, height = get_size(fobj)\n",
    "\n",
    "        info['imgsize'] = [height, width]\n",
    "\n",
    "        \n",
    "        label_info = info['labels'] if 'labels' in info.keys() else []\n",
    "\n",
    "        for idx in range(len(label_info)) :\n",
    "            # try :\n",
    "            label = label_info[idx]['category']\n",
    "            coord = label_info[idx]['box2d']\n",
    "            # except :\n",
    "            #     print(label_info[idx])\n",
    "            #     raise\n",
    "            xmin, xmax = coord['x1'], coord['x2']\n",
    "            ymin, ymax = coord['y1'], coord['y2']\n",
    "\n",
    "            w = xmax - xmin\n",
    "            h = ymax - ymin\n",
    "\n",
    "            x_center = xmin + w / 2\n",
    "            y_center = ymin + h / 2\n",
    "\n",
    "            w /= width # normalize 0-1\n",
    "            h /= height\n",
    "\n",
    "            x_center /= width\n",
    "            y_center /= height\n",
    "\n",
    "\n",
    "\n",
    "            info['labels'][idx]['box2d'] = { 'x' : round(float(x_center), 4),\n",
    "                                             'y' : round(float(y_center), 4),\n",
    "                                             'w' : round(float(w), 4),\n",
    "                                             'h' : round(float(h), 4)\n",
    "                                                }\n",
    "\n",
    "        yolo_json_info.append(info)\n",
    "\n",
    "    return yolo_json_info\n",
    "\n",
    "def save_json_info(json_info, savename) :\n",
    "    with open(savename, 'w') as f :\n",
    "        json.dump(json_info, f, indent = 4)"
   ]
  },
  {
   "cell_type": "code",
   "execution_count": null,
   "metadata": {},
   "outputs": [],
   "source": [
    "json_file = 'data/label/det_val.json'\n",
    "imgdir = 'data/images/val'\n",
    "\n",
    "val_yolo_json_info = convert_yolo_format(json_file, imgdir)"
   ]
  },
  {
   "cell_type": "code",
   "execution_count": null,
   "metadata": {},
   "outputs": [],
   "source": [
    "save_json_info(val_yolo_json_info, 'data/label/yolo_det_val.json')"
   ]
  },
  {
   "cell_type": "code",
   "execution_count": null,
   "metadata": {},
   "outputs": [],
   "source": [
    "json_file = 'data/label/det_train.json'\n",
    "imgdir = 'data/images/train'\n",
    "\n",
    "train_yolo_json_info = convert_yolo_format(json_file, imgdir)"
   ]
  },
  {
   "cell_type": "code",
   "execution_count": null,
   "metadata": {},
   "outputs": [],
   "source": [
    "save_json_info(train_yolo_json_info, 'data/label/yolo_det_train.json')"
   ]
  },
  {
   "cell_type": "code",
   "execution_count": null,
   "metadata": {},
   "outputs": [],
   "source": [
    "def read_json_info(jsonfile) :\n",
    "    with open(jsonfile, 'r') as f :\n",
    "        json_infos = json.load(f)\n",
    "\n",
    "    for js_info in tqdm(json_infos) :\n",
    "        img_h, img_w = js_info['imgsize']\n",
    "        label_info = js_info['labels'] if 'labels' in js_info.keys() else []\n",
    "        for idx in range(len(label_info)) :\n",
    "            label = label_info[idx]['category']\n",
    "            coord = label_info[idx]['box2d']\n",
    "\n",
    "            x,y,w,h = coord['x'], coord['y'], coord['w'], coord['h']\n",
    "            if 0 <= x <= img_w and 0 <= y <= img_h :\n",
    "                continue\n",
    "            else :\n",
    "                raise ValueError(f\"{js_info['name'], {x,y,w,h}}\")\n",
    "\n"
   ]
  },
  {
   "cell_type": "code",
   "execution_count": null,
   "metadata": {},
   "outputs": [],
   "source": [
    "read_json_info('data/label/yolo_det_train.json')"
   ]
  },
  {
   "attachments": {},
   "cell_type": "markdown",
   "metadata": {},
   "source": [
    "#### Image Resize"
   ]
  },
  {
   "cell_type": "code",
   "execution_count": null,
   "metadata": {},
   "outputs": [],
   "source": [
    "\n",
    "val_imgfiles = sorted(glob('data/images/val/*.jpg'))\n",
    "\n",
    "with open('data/label/yolo_det_val.json', 'r') as f :\n",
    "    val_json = json.load(f)\n",
    "\n",
    "val_json = sorted(val_json, key = lambda x : x['name'])\n"
   ]
  },
  {
   "cell_type": "code",
   "execution_count": null,
   "metadata": {},
   "outputs": [],
   "source": [
    "import albumentations as A\n",
    "\n",
    "transform = A.Compose([\n",
    "    A.geometric.resize.SmallestMaxSize(max_size = 446),\n",
    "    A.RandomCrop(width = 446, height = 446),\n",
    "], bbox_params = A.BboxParams(format = 'yolo', label_fields = ['label'], min_visibility = 0.1))\n",
    "\n"
   ]
  },
  {
   "cell_type": "code",
   "execution_count": null,
   "metadata": {},
   "outputs": [],
   "source": [
    "BOX_COLOR = (255, 0, 0) # Red\n",
    "TEXT_COLOR = (255, 255, 255) # White\n",
    "\n",
    "\n",
    "def visualize_bbox(img, bbox, class_name, color=BOX_COLOR, thickness=2):\n",
    "    \"\"\"Visualizes a single bounding box on the image\"\"\"\n",
    "    img_h, img_w = img.shape[:2]\n",
    "\n",
    "    x, y, w, h = bbox\n",
    "    x_min, x_max, y_min, y_max = x - w, x + w, y - w, y + w\n",
    "    x_min = int(img_w * x_min)\n",
    "    x_max = int(img_w * x_max)\n",
    "    y_min = int(img_h * y_min)\n",
    "    y_max = int(img_h * y_max)\n",
    "\n",
    "\n",
    "\n",
    "   \n",
    "    cv2.rectangle(img, (x_min, y_min), (x_max, y_max), color=color, thickness=thickness)\n",
    "    \n",
    "    ((text_width, text_height), _) = cv2.getTextSize(class_name, cv2.FONT_HERSHEY_SIMPLEX, 0.35, 1)    \n",
    "    cv2.rectangle(img, (x_min, y_min - int(1.3 * text_height)), (x_min + text_width, y_min), BOX_COLOR, -1)\n",
    "    cv2.putText(\n",
    "        img,\n",
    "        text=class_name,\n",
    "        org=(x_min, y_min - int(0.3 * text_height)),\n",
    "        fontFace=cv2.FONT_HERSHEY_SIMPLEX,\n",
    "        fontScale=0.35, \n",
    "        color=TEXT_COLOR, \n",
    "        lineType=cv2.LINE_AA,\n",
    "    )\n",
    "    return img\n",
    "\n",
    "\n",
    "def visualize(image, bboxes, category_ids):\n",
    "    img = image.copy()\n",
    "    for bbox, category_id in zip(bboxes, category_ids):\n",
    "        class_name = category_id\n",
    "        img = visualize_bbox(img, bbox, class_name)\n",
    "    plt.figure(figsize=(12, 12))\n",
    "    plt.axis('off')\n",
    "    plt.imshow(img)"
   ]
  },
  {
   "cell_type": "code",
   "execution_count": null,
   "metadata": {},
   "outputs": [],
   "source": [
    "idx = 550\n",
    "img = plt.imread(val_imgfiles[idx])\n",
    "bboxes, labels = zip(*[([l['box2d']['x'], l['box2d']['y'], l['box2d']['w'], l['box2d']['h']], l['category']) \\\n",
    "            for l in val_json[idx]['labels']])\n",
    "\n"
   ]
  },
  {
   "attachments": {},
   "cell_type": "markdown",
   "metadata": {},
   "source": [
    "### Visualize DataModule "
   ]
  },
  {
   "cell_type": "code",
   "execution_count": 1,
   "metadata": {},
   "outputs": [
    {
     "name": "stderr",
     "output_type": "stream",
     "text": [
      "C:\\Program Files\\WindowsApps\\PythonSoftwareFoundation.Python.3.10_3.10.2800.0_x64__qbz5n2kfra8p0\\lib\\site-packages\\pkg_resources\\__init__.py:123: PkgResourcesDeprecationWarning: encv-python is an invalid version and will not be supported in a future release\n",
      "  warnings.warn(\n",
      "C:\\Users\\user\\AppData\\Local\\Packages\\PythonSoftwareFoundation.Python.3.10_qbz5n2kfra8p0\\LocalCache\\local-packages\\Python310\\site-packages\\torch\\distributed\\_shard\\partial_tensor.py:40: UserWarning: Please use DTensor instead and we are deprecating ShardedTensor.\n",
      "  warnings.warn(DEPRECATE_MSG)\n",
      "C:\\Users\\user\\AppData\\Local\\Packages\\PythonSoftwareFoundation.Python.3.10_qbz5n2kfra8p0\\LocalCache\\local-packages\\Python310\\site-packages\\torch\\distributed\\_shard\\replicated_tensor.py:20: UserWarning: Please use DTensor instead and we are deprecating ShardedTensor.\n",
      "  warnings.warn(DEPRECATE_MSG)\n",
      "validate json and image matching...: 10000it [00:00, 606262.23it/s]\n",
      "validate json and image matching...: 10000it [00:00, 581468.12it/s]\n"
     ]
    }
   ],
   "source": [
    "from YOLOv1.data import BDDDataModule\n",
    "import albumentations as A\n",
    "import albumentations.pytorch as pytorch\n",
    "from global_utils import visualize_gridbbox\n",
    "import matplotlib.pyplot as plt\n",
    "\n",
    "imgdir = 'data/images/val'\n",
    "jsonfile = 'data/label/det_val.json'\n",
    "num_grid = 7\n",
    "num_classes = 13\n",
    "numbox = 2\n",
    "batch_size = 1\n",
    "num_workers = 0\n",
    "\n",
    "train_transform = A.Compose(\n",
    "    [\n",
    "        A.geometric.resize.RandomScale(scale_limit=0.2),\n",
    "        A.geometric.transforms.Affine(translate_percent = [0.2, 0.2]), \n",
    "        A.geometric.resize.SmallestMaxSize(max_size=446),\n",
    "        A.Normalize(),  # mean=(0.485, 0.456, 0.406), std=(0.229, 0.224, 0.225)\n",
    "        A.transforms.ColorJitter(brightness = 0.5, saturation = 0.5), \n",
    "        A.RandomCrop(width=446, height=446, always_apply=True, p=1.0),\n",
    "        A.PadIfNeeded(min_width=446 , min_height=446, border_mode=None),\n",
    "        \n",
    "        pytorch.transforms.ToTensorV2(),\n",
    "    ],\n",
    "    bbox_params=A.BboxParams(\n",
    "        format=\"pascal_voc\", label_fields=[\"label\"], min_visibility=0.8 # bounding box will be changed into yolo format after the encoding\n",
    "    ),\n",
    ")\n",
    "\n",
    "test_transform = A.Compose(\n",
    "    [\n",
    "        A.Normalize(), # mean=(0.485, 0.456, 0.406), std=(0.229, 0.224, 0.225)\n",
    "        A.geometric.resize.LongestMaxSize(max_size=446),\n",
    "        A.PadIfNeeded(min_width=446, min_height=446, border_mode=None),\n",
    "         \n",
    "        pytorch.transforms.ToTensorV2(),\n",
    "    ],\n",
    "    bbox_params=A.BboxParams(\n",
    "        format=\"pascal_voc\", label_fields=[\"label\"], min_visibility=0.8\n",
    "    ),\n",
    ")\n",
    "\n",
    "\n",
    "\n",
    "datamodule = BDDDataModule(imgdir, jsonfile, num_grid, num_classes, numbox, batch_size, num_workers, train_transform = train_transform, test_transform = test_transform,)\n",
    "\n",
    "datamodule.setup('fit')\n",
    "datamodule.setup('test')"
   ]
  },
  {
   "cell_type": "code",
   "execution_count": 2,
   "metadata": {},
   "outputs": [],
   "source": [
    "train_dataloader = datamodule.train_dataloader()\n",
    "test_dataloader = datamodule.test_dataloader()"
   ]
  },
  {
   "cell_type": "code",
   "execution_count": 3,
   "metadata": {},
   "outputs": [
    {
     "name": "stdout",
     "output_type": "stream",
     "text": [
      "bboxes :  [(4.559890730468737, 195.86217481666668, 41.66497654453127, 231.41623246944442), (365.56145513203137, 283.20149193055556, 385.6600426101562, 300.9785210666667), (275.8908303585937, 277.0181770444444, 295.98941845624995, 284.7473198777778), (309.90382703046873, 282.4285770277778, 315.31498519765614, 292.47646333055553), (259.6573564765624, 272.3806913444445, 265.8415372390625, 285.52023478055554), (67.94774602421876, 268.5161199277778, 75.67797197734376, 279.3369205138889), (39.345908758593794, 267.74320564444446, 63.309610452343755, 276.2452627611111), (8.425004326562487, 275.4723484777778, 15.382207684375032, 282.42857826666665), (0.0, 298.65977821666667, 46.30311211640617, 329.57635016944437), (24.658478828125, 302.5243496333333, 86.50028893125, 334.21383648888883), (274.3447857875, 308.7076639, 282.84803495546873, 325.7117787527778), (273.5717625726562, 316.4368079722223, 282.84803495546873, 329.57635016944437), (312.9959167921876, 297.88686393333336, 321.49916596015623, 307.93475023611114), (295.2163964804688, 310.2534918472222, 318.4070755789062, 332.6680066833333), (309.130803815625, 314.89097754722223, 326.1373021515625, 331.1221787361111), (322.2721885554688, 315.66389306944444, 343.1437992484375, 337.3054942416667), (335.4135732953125, 313.3451496, 372.518659109375, 342.71589360555555), (359.3772743695313, 311.02640675, 432.81442340234366, 352.7637799083334), (244.96992654609377, 300.20560678333334, 249.60806211796876, 307.93475023611114), (238.01272256874995, 292.47646333055553, 241.87783554531245, 300.9785210666667), (199.36159156406256, 294.79520618055557, 203.99972713593746, 300.9785210666667), (213.27599889921873, 309.4805781833333, 221.77924744765625, 317.2097216361111), (227.1904068539063, 307.16183533333333, 234.9206328070312, 317.9826359194444), (231.82854242578128, 310.2534918472222, 241.87783616484376, 323.39303528333335), (241.10481294999997, 307.16183533333333, 265.8415372390625, 328.03052160277775), (192.40438820625002, 309.4805781833333, 203.226704540625, 317.2097216361111), (182.3550938476563, 310.2534918472222, 192.40438820625002, 318.75554958333333), (152.2072120109375, 307.93474899722224, 168.4406865125, 320.30137876944445)]\n",
      "\n",
      "0.051821600084080724 0.4790116673611111 0.08319525967278595 0.07971761805555548\n",
      "0.8421765669755467 0.6549103284722223 0.04506409748458485 0.039858809722222284\n",
      "0.6411213551735915 0.6297819472222221 0.045064098873668745 0.017329916666666716\n",
      "0.7009179509283912 0.6445123770833333 0.012132641630465043 0.02252889305555544\n",
      "0.5891243203089965 0.6254494687500001 0.013865876149103343 0.02946085972222213\n",
      "0.1610153789255185 0.6141850229166668 0.017332345186378925 0.024261884722222175\n",
      "0.11508466279253088 0.6098525430555555 0.05373027285594162 0.019062908333333326\n",
      "0.0266896995638313 0.6254494694444444 0.015599110667741134 0.015596927777777655\n",
      "0.05190931851615041 0.704300592361111 0.10381863703230082 0.06931966805555538\n",
      "0.12461745264503923 0.7138320472222222 0.13865876704736546 0.07105266111111103\n",
      "0.6246556286356152 0.7112325590277778 0.01906558109410036 0.03812581805555555\n",
      "0.6237890106817544 0.7242299979166668 0.020798817001821797 0.029460856944444072\n",
      "0.7113173573456769 0.6791722131944445 0.019065581094100104 0.02252889305555557\n",
      "0.6879186906495235 0.7207640118055555 0.051997038337303556 0.05025675972222219\n",
      "0.7121839752995375 0.7242299958333333 0.03813116218820072 0.03639282777777771\n",
      "0.7459820491075183 0.7320284611111112 0.04679733339230654 0.04852376944444448\n",
      "0.7936460004536855 0.7354944430555554 0.08319525967278582 0.06585368611111107\n",
      "0.8881072844976177 0.7441594020833334 0.1646572848269336 0.09358155416666684\n",
      "0.5544596285471554 0.6817717006944446 0.010399407111827316 0.017329918055555615\n",
      "0.5379938992310117 0.6653082784722222 0.008666172593189463 0.01906290972222235\n",
      "0.45219878778026906 0.6679077659722222 0.010399407111827125 0.013863934722222273\n",
      "0.48773009680142937 0.7025676006944443 0.019065579705016843 0.017329918055555615\n",
      "0.5180617036557595 0.7008346090277777 0.017332345186378734 0.024261884722222175\n",
      "0.5310609625455438 0.7103660618055556 0.02253204874229255 0.029460859722222253\n",
      "0.5683255046962584 0.712099054861111 0.05546350737457971 0.046790776388888844\n",
      "0.44353261518707965 0.7025676006944443 0.024265283260930467 0.017329918055555615\n",
      "0.42013394849092633 0.7051670868055555 0.022532050131376068 0.019062909722222226\n",
      "0.3594707382549748 0.7043005916666666 0.03639792489139577 0.02772786944444442\n",
      "bboxes :  [(348.680967915625, 195.30568911805557, 362.5934257125, 210.9650021666667), (74.7794593515625, 157.02736744166666, 95.64814569843752, 177.0364895736111), (277.81438712343754, 206.1802118263889, 289.11825851718754, 216.18477306666665), (227.38172804531249, 202.7003642111111, 238.68559978750002, 207.05017329444445), (246.51135795156247, 205.74523056944446, 249.5547079421875, 211.39998272638888), (218.251678421875, 200.09047876111111, 221.729792696875, 207.4851545513889), (110.43013206406249, 197.91557421944447, 114.7777749078125, 204.00530728472222), (94.3438528453125, 197.48059331111108, 107.8215463578125, 202.26538330277776), (76.953281121875, 201.83040239444443, 80.86615968125001, 205.74523126666668), (71.73610936093749, 214.87983034166666, 98.2567314046875, 232.27906702361113), (16.521043503125, 217.0547348833333, 45.21548696875001, 236.62887680416668), (86.08333109375, 217.0547348833333, 120.86447523750002, 234.8889528222222), (0.0, 214.44484943333333, 18.260100640625, 237.49883827222226), (226.51219982499998, 220.53458215, 231.29460730156248, 230.10416248194446), (226.0774351921875, 224.88439193055558, 231.29460730156248, 232.27906702361113), (248.25041474062502, 214.44484943333333, 253.03282221718752, 220.09960159027776), (238.25083585156253, 221.40454361805558, 251.2937650796875, 234.01899030833334), (246.07659331874999, 224.0144290680556, 255.64140827187504, 233.14902884027777), (253.46758650156252, 224.4494106736111, 265.206222528125, 236.62887680416668), (260.858579684375, 223.14446759999996, 281.72726603125, 239.67374281388888), (274.3362728484375, 221.839524875, 315.63888125781244, 245.32849497083333), (306.5088309375, 227.92925794027778, 334.33374618281255, 254.46309404583334), (325.5645304059819, 213.75539443380336, 421.64744038879445, 265.51812461713666), (419.5475487078125, 241.8486477041667, 445.633406815625, 281.86689266527776), (209.9911566703125, 215.74979215833335, 212.59974237656252, 220.09960159027776), (206.07827776250002, 211.39998272638888, 208.252099184375, 216.18477306666665), (184.340062846875, 212.7049254513889, 186.948648553125, 216.18477306666665), (192.1658203140625, 220.96956305833334, 196.9482274421875, 225.31937249027777), (199.9915781296875, 219.66462033333335, 204.33922097343748, 225.7543533986111), (202.6001638359375, 221.40454361805558, 208.25209953281248, 228.79921940833333), (207.8173349, 219.66462033333335, 221.729792696875, 231.40910520694442), (180.4271842875, 220.96956305833334, 186.51388426875, 225.31937249027777), (174.7752482421875, 221.40454361805558, 180.4271842875, 226.18933395833335), (157.819440803125, 220.09960089305554, 166.94949077500002, 227.05929612361112)]\n",
      "\n",
      "0.79739281796875 0.4554604162384779 0.031193851562500007 0.03511056737356755\n",
      "0.1910623375 0.37451105046555805 0.04679077656250005 0.044863502537992046\n",
      "0.63557471484375 0.47350334629266316 0.025345003125 0.022431751659815587\n",
      "0.522497004296875 0.4593615891317887 0.025345003906250087 0.009752935164424563\n",
      "0.5561278765625 0.4676515844123692 0.00682365468750004 0.012678816495391088\n",
      "0.4932527703125 0.4569233557315023 0.007798462499999991 0.016579990561160926\n",
      "0.25247523203125 0.45058394787462636 0.00974807812500002 0.013654110011833533\n",
      "0.22664282421874998 0.4481457136927005 0.030219043749999994 0.010728228680867006\n",
      "0.17692762421875002 0.4569233561223219 0.008773270312500038 0.008777643211260637\n",
      "0.19057493359374997 0.5012992122929123 0.05946327812500002 0.03901174143933738\n",
      "0.06921135703125 0.50861391444787 0.06433731718750002 0.04388821058482818\n",
      "0.23200426718750003 0.5066633270241653 0.07798462812500002 0.03998703573741902\n",
      "0.02047096484375 0.5066633270241655 0.0409419296875 0.051690557934728536\n",
      "0.513236330859375 0.5052003863586821 0.010722886718749993 0.021456458143373207\n",
      "0.5127489265624999 0.5125150885136398 0.011697695312499966 0.01657998899788241\n",
      "0.561976723046875 0.48715745630449675 0.010722886718749993 0.012678816495391088\n",
      "0.5488168171875 0.5105644999174763 0.029244235937499915 0.02828351275847031\n",
      "0.5624641273437501 0.5125150873411809 0.021445773437500114 0.020481165408569896\n",
      "0.581472880078125 0.5169039097284505 0.026319811718749975 0.02730822002366719\n",
      "0.6082800960937501 0.518854495979696 0.04679077656249999 0.037061155188091756\n",
      "0.6614071234374999 0.523730963952728 0.09260674531249989 0.05266585223281017\n",
      "0.7184333824218752 0.5407986008812905 0.06238770234375005 0.059492906066268086\n",
      "0.8376815816084936 0.5373021514023991 0.21543253359375014 0.11605993314648723\n",
      "0.9699338066406249 0.5871250452572246 0.058488471093749994 0.08972700663926247\n",
      "0.47375661328125007 0.4886203965791604 0.005848846875000025 0.009752935946063695\n",
      "0.4644959382812501 0.47935510739131787 0.004874039062499946 0.010728229462506202\n",
      "0.41624295 0.4808180476659815 0.005848846874999961 0.0078023489131788075\n",
      "0.4362265109375 0.5003239187764699 0.010722885937499971 0.009752935946063758\n",
      "0.4532856492187499 0.49934862526002743 0.009748078124999957 0.013654110011833533\n",
      "0.46059670781249995 0.5047127388188216 0.012672501562499936 0.016579990561160864\n",
      "0.48155507578125 0.5056880331169034 0.031193851562500007 0.026332925725585363\n",
      "0.4113689109375 0.5003239187764699 0.013647309374999951 0.009752935946063758\n",
      "0.39820900507812496 0.5017868582694943 0.012672502343750024 0.010728229462506202\n",
      "0.36409073046875 0.5012992119020926 0.020470964062500055 0.015604697826357806\n"
     ]
    }
   ],
   "source": [
    "train_img_batch, train_label_grid_batch, train_bbox_batch, train_label_batch = next(iter(train_dataloader))\n",
    "test_img_batch, test_label_grid_batch, test_bbox_batch, test_label_batch = next(iter(test_dataloader))"
   ]
  },
  {
   "cell_type": "code",
   "execution_count": 7,
   "metadata": {},
   "outputs": [
    {
     "data": {
      "text/plain": [
       "[[tensor([348.6810], dtype=torch.float64),\n",
       "  tensor([195.3057], dtype=torch.float64),\n",
       "  tensor([362.5934], dtype=torch.float64),\n",
       "  tensor([210.9650], dtype=torch.float64)],\n",
       " [tensor([74.7795], dtype=torch.float64),\n",
       "  tensor([157.0274], dtype=torch.float64),\n",
       "  tensor([95.6481], dtype=torch.float64),\n",
       "  tensor([177.0365], dtype=torch.float64)],\n",
       " [tensor([277.8144], dtype=torch.float64),\n",
       "  tensor([206.1802], dtype=torch.float64),\n",
       "  tensor([289.1183], dtype=torch.float64),\n",
       "  tensor([216.1848], dtype=torch.float64)],\n",
       " [tensor([227.3817], dtype=torch.float64),\n",
       "  tensor([202.7004], dtype=torch.float64),\n",
       "  tensor([238.6856], dtype=torch.float64),\n",
       "  tensor([207.0502], dtype=torch.float64)],\n",
       " [tensor([246.5114], dtype=torch.float64),\n",
       "  tensor([205.7452], dtype=torch.float64),\n",
       "  tensor([249.5547], dtype=torch.float64),\n",
       "  tensor([211.4000], dtype=torch.float64)],\n",
       " [tensor([218.2517], dtype=torch.float64),\n",
       "  tensor([200.0905], dtype=torch.float64),\n",
       "  tensor([221.7298], dtype=torch.float64),\n",
       "  tensor([207.4852], dtype=torch.float64)],\n",
       " [tensor([110.4301], dtype=torch.float64),\n",
       "  tensor([197.9156], dtype=torch.float64),\n",
       "  tensor([114.7778], dtype=torch.float64),\n",
       "  tensor([204.0053], dtype=torch.float64)],\n",
       " [tensor([94.3439], dtype=torch.float64),\n",
       "  tensor([197.4806], dtype=torch.float64),\n",
       "  tensor([107.8215], dtype=torch.float64),\n",
       "  tensor([202.2654], dtype=torch.float64)],\n",
       " [tensor([76.9533], dtype=torch.float64),\n",
       "  tensor([201.8304], dtype=torch.float64),\n",
       "  tensor([80.8662], dtype=torch.float64),\n",
       "  tensor([205.7452], dtype=torch.float64)],\n",
       " [tensor([71.7361], dtype=torch.float64),\n",
       "  tensor([214.8798], dtype=torch.float64),\n",
       "  tensor([98.2567], dtype=torch.float64),\n",
       "  tensor([232.2791], dtype=torch.float64)],\n",
       " [tensor([16.5210], dtype=torch.float64),\n",
       "  tensor([217.0547], dtype=torch.float64),\n",
       "  tensor([45.2155], dtype=torch.float64),\n",
       "  tensor([236.6289], dtype=torch.float64)],\n",
       " [tensor([86.0833], dtype=torch.float64),\n",
       "  tensor([217.0547], dtype=torch.float64),\n",
       "  tensor([120.8645], dtype=torch.float64),\n",
       "  tensor([234.8890], dtype=torch.float64)],\n",
       " [tensor([0.], dtype=torch.float64),\n",
       "  tensor([214.4448], dtype=torch.float64),\n",
       "  tensor([18.2601], dtype=torch.float64),\n",
       "  tensor([237.4988], dtype=torch.float64)],\n",
       " [tensor([226.5122], dtype=torch.float64),\n",
       "  tensor([220.5346], dtype=torch.float64),\n",
       "  tensor([231.2946], dtype=torch.float64),\n",
       "  tensor([230.1042], dtype=torch.float64)],\n",
       " [tensor([226.0774], dtype=torch.float64),\n",
       "  tensor([224.8844], dtype=torch.float64),\n",
       "  tensor([231.2946], dtype=torch.float64),\n",
       "  tensor([232.2791], dtype=torch.float64)],\n",
       " [tensor([248.2504], dtype=torch.float64),\n",
       "  tensor([214.4448], dtype=torch.float64),\n",
       "  tensor([253.0328], dtype=torch.float64),\n",
       "  tensor([220.0996], dtype=torch.float64)],\n",
       " [tensor([238.2508], dtype=torch.float64),\n",
       "  tensor([221.4045], dtype=torch.float64),\n",
       "  tensor([251.2938], dtype=torch.float64),\n",
       "  tensor([234.0190], dtype=torch.float64)],\n",
       " [tensor([246.0766], dtype=torch.float64),\n",
       "  tensor([224.0144], dtype=torch.float64),\n",
       "  tensor([255.6414], dtype=torch.float64),\n",
       "  tensor([233.1490], dtype=torch.float64)],\n",
       " [tensor([253.4676], dtype=torch.float64),\n",
       "  tensor([224.4494], dtype=torch.float64),\n",
       "  tensor([265.2062], dtype=torch.float64),\n",
       "  tensor([236.6289], dtype=torch.float64)],\n",
       " [tensor([260.8586], dtype=torch.float64),\n",
       "  tensor([223.1445], dtype=torch.float64),\n",
       "  tensor([281.7273], dtype=torch.float64),\n",
       "  tensor([239.6737], dtype=torch.float64)],\n",
       " [tensor([274.3363], dtype=torch.float64),\n",
       "  tensor([221.8395], dtype=torch.float64),\n",
       "  tensor([315.6389], dtype=torch.float64),\n",
       "  tensor([245.3285], dtype=torch.float64)],\n",
       " [tensor([306.5088], dtype=torch.float64),\n",
       "  tensor([227.9293], dtype=torch.float64),\n",
       "  tensor([334.3337], dtype=torch.float64),\n",
       "  tensor([254.4631], dtype=torch.float64)],\n",
       " [tensor([325.5645], dtype=torch.float64),\n",
       "  tensor([213.7554], dtype=torch.float64),\n",
       "  tensor([421.6474], dtype=torch.float64),\n",
       "  tensor([265.5181], dtype=torch.float64)],\n",
       " [tensor([419.5475], dtype=torch.float64),\n",
       "  tensor([241.8486], dtype=torch.float64),\n",
       "  tensor([445.6334], dtype=torch.float64),\n",
       "  tensor([281.8669], dtype=torch.float64)],\n",
       " [tensor([209.9912], dtype=torch.float64),\n",
       "  tensor([215.7498], dtype=torch.float64),\n",
       "  tensor([212.5997], dtype=torch.float64),\n",
       "  tensor([220.0996], dtype=torch.float64)],\n",
       " [tensor([206.0783], dtype=torch.float64),\n",
       "  tensor([211.4000], dtype=torch.float64),\n",
       "  tensor([208.2521], dtype=torch.float64),\n",
       "  tensor([216.1848], dtype=torch.float64)],\n",
       " [tensor([184.3401], dtype=torch.float64),\n",
       "  tensor([212.7049], dtype=torch.float64),\n",
       "  tensor([186.9486], dtype=torch.float64),\n",
       "  tensor([216.1848], dtype=torch.float64)],\n",
       " [tensor([192.1658], dtype=torch.float64),\n",
       "  tensor([220.9696], dtype=torch.float64),\n",
       "  tensor([196.9482], dtype=torch.float64),\n",
       "  tensor([225.3194], dtype=torch.float64)],\n",
       " [tensor([199.9916], dtype=torch.float64),\n",
       "  tensor([219.6646], dtype=torch.float64),\n",
       "  tensor([204.3392], dtype=torch.float64),\n",
       "  tensor([225.7544], dtype=torch.float64)],\n",
       " [tensor([202.6002], dtype=torch.float64),\n",
       "  tensor([221.4045], dtype=torch.float64),\n",
       "  tensor([208.2521], dtype=torch.float64),\n",
       "  tensor([228.7992], dtype=torch.float64)],\n",
       " [tensor([207.8173], dtype=torch.float64),\n",
       "  tensor([219.6646], dtype=torch.float64),\n",
       "  tensor([221.7298], dtype=torch.float64),\n",
       "  tensor([231.4091], dtype=torch.float64)],\n",
       " [tensor([180.4272], dtype=torch.float64),\n",
       "  tensor([220.9696], dtype=torch.float64),\n",
       "  tensor([186.5139], dtype=torch.float64),\n",
       "  tensor([225.3194], dtype=torch.float64)],\n",
       " [tensor([174.7752], dtype=torch.float64),\n",
       "  tensor([221.4045], dtype=torch.float64),\n",
       "  tensor([180.4272], dtype=torch.float64),\n",
       "  tensor([226.1893], dtype=torch.float64)],\n",
       " [tensor([157.8194], dtype=torch.float64),\n",
       "  tensor([220.0996], dtype=torch.float64),\n",
       "  tensor([166.9495], dtype=torch.float64),\n",
       "  tensor([227.0593], dtype=torch.float64)]]"
      ]
     },
     "execution_count": 7,
     "metadata": {},
     "output_type": "execute_result"
    }
   ],
   "source": [
    "test_bbox_batch"
   ]
  },
  {
   "cell_type": "code",
   "execution_count": 5,
   "metadata": {},
   "outputs": [
    {
     "name": "stderr",
     "output_type": "stream",
     "text": [
      "Clipping input data to the valid range for imshow with RGB data ([0..1] for floats or [0..255] for integers).\n"
     ]
    },
    {
     "data": {
      "text/plain": [
       "<matplotlib.image.AxesImage at 0x1120f088340>"
      ]
     },
     "execution_count": 5,
     "metadata": {},
     "output_type": "execute_result"
    },
    {
     "data": {
      "image/png": "[encoded data removed]",
      "text/plain": [
       "<Figure size 640x480 with 1 Axes>"
      ]
     },
     "metadata": {},
     "output_type": "display_data"
    }
   ],
   "source": [
    "plt.imshow(test_img_batch[0].permute(1,2,0).detach().numpy())"
   ]
  },
  {
   "cell_type": "code",
   "execution_count": 6,
   "metadata": {},
   "outputs": [
    {
     "data": {
      "text/plain": [
       "[0.0,\n",
       " 0.0,\n",
       " 0.0,\n",
       " 0.0,\n",
       " 0.0,\n",
       " 0.0,\n",
       " 0.0,\n",
       " 0.0,\n",
       " 0.0,\n",
       " 0.0,\n",
       " 0.0,\n",
       " 0.0,\n",
       " 0.0,\n",
       " 0.0,\n",
       " 0.0,\n",
       " 0.0,\n",
       " 0.0,\n",
       " 0.0,\n",
       " 0.0,\n",
       " 0.0,\n",
       " 0.0,\n",
       " 0.0,\n",
       " 0.0,\n",
       " 0.0,\n",
       " 0.0,\n",
       " 0.0,\n",
       " 0.0,\n",
       " 0.0,\n",
       " 0.0,\n",
       " 0.0,\n",
       " 0.0,\n",
       " 0.0,\n",
       " 0.0,\n",
       " 0.0,\n",
       " 0.0,\n",
       " 0.0,\n",
       " 0.0,\n",
       " 0.0,\n",
       " 0.0,\n",
       " 0.0,\n",
       " 0.0,\n",
       " 0.0,\n",
       " 0.0,\n",
       " 0.0,\n",
       " 0.0,\n",
       " 0.0,\n",
       " 0.0,\n",
       " 0.0,\n",
       " 0.0,\n",
       " 0.0,\n",
       " 0.0,\n",
       " 0.0,\n",
       " 0.0,\n",
       " 0.0,\n",
       " 0.0,\n",
       " 0.0,\n",
       " 0.0,\n",
       " 0.0,\n",
       " 0.0,\n",
       " 0.0,\n",
       " 0.0,\n",
       " 0.0,\n",
       " 0.0,\n",
       " 0.0,\n",
       " 0.0,\n",
       " 0.0,\n",
       " 0.0,\n",
       " 0.0,\n",
       " 0.0,\n",
       " 0.0,\n",
       " 0.0,\n",
       " 0.0,\n",
       " 0.0,\n",
       " 0.0,\n",
       " 0.0,\n",
       " 0.0,\n",
       " 0.0,\n",
       " 0.0,\n",
       " 0.0,\n",
       " 0.0,\n",
       " 0.0,\n",
       " 0.0,\n",
       " 0.0,\n",
       " 0.0,\n",
       " 0.0,\n",
       " 0.0,\n",
       " 0.0,\n",
       " 0.0,\n",
       " 0.0,\n",
       " 0.0,\n",
       " 0.0,\n",
       " 0.0,\n",
       " 0.0,\n",
       " 0.0,\n",
       " 0.0,\n",
       " 0.0,\n",
       " 0.0,\n",
       " 0.0]"
      ]
     },
     "execution_count": 6,
     "metadata": {},
     "output_type": "execute_result"
    }
   ],
   "source": [
    "from YOLOv1.utils import convert_labelgrid, decode_labelgrid\n",
    "\n",
    "[d[3] for d in decode_labelgrid(train_label_grid_batch[0], 2, 13)]"
   ]
  },
  {
   "cell_type": "code",
   "execution_count": 9,
   "metadata": {},
   "outputs": [
    {
     "name": "stderr",
     "output_type": "stream",
     "text": [
      "Clipping input data to the valid range for imshow with RGB data ([0..1] for floats or [0..255] for integers).\n"
     ]
    },
    {
     "data": {
      "text/plain": [
       "<matplotlib.image.AxesImage at 0x14b1a469e40>"
      ]
     },
     "execution_count": 9,
     "metadata": {},
     "output_type": "execute_result"
    },
    {
     "data": {
      "image/png": "[encoded data removed]",
      "text/plain": [
       "<Figure size 640x480 with 1 Axes>"
      ]
     },
     "metadata": {},
     "output_type": "display_data"
    }
   ],
   "source": [
    "\n",
    "\n",
    "plt.imshow(visualize_gridbbox(train_img_batch[0], train_label_grid_batch[0]))"
   ]
  },
  {
   "cell_type": "code",
   "execution_count": null,
   "metadata": {},
   "outputs": [],
   "source": [
    "visualize_gridbbox(img_batch[0], label_grid_batch[0])"
   ]
  },
  {
   "cell_type": "code",
   "execution_count": null,
   "metadata": {},
   "outputs": [],
   "source": [
    "# visualize(transformed['image'], transformed['bboxes'], transformed['label'])\n",
    "visualize(img, bboxes, labels)"
   ]
  },
  {
   "cell_type": "code",
   "execution_count": null,
   "metadata": {},
   "outputs": [],
   "source": []
  }
 ],
 "metadata": {
  "kernelspec": {
   "display_name": "Python 3",
   "language": "python",
   "name": "python3"
  },
  "language_info": {
   "codemirror_mode": {
    "name": "ipython",
    "version": 3
   },
   "file_extension": ".py",
   "mimetype": "text/x-python",
   "name": "python",
   "nbconvert_exporter": "python",
   "pygments_lexer": "ipython3",
   "version": "3.10.10"
  },
  "orig_nbformat": 4
 },
 "nbformat": 4,
 "nbformat_minor": 2
}
